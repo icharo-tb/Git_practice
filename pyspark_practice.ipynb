{
 "cells": [
  {
   "cell_type": "markdown",
   "metadata": {},
   "source": [
    "RDD practices and PySpark on Databricks enviroment + basic operations"
   ]
  },
  {
   "cell_type": "code",
   "execution_count": null,
   "metadata": {},
   "outputs": [],
   "source": [
    "sensores = 'dbfs:/FileStore/shared_uploads/riukiratb2@gmail.com/sensores-1.txt'\n",
    "line = sc.textFile(sensores)"
   ]
  },
  {
   "cell_type": "code",
   "execution_count": null,
   "metadata": {},
   "outputs": [],
   "source": [
    "line.collect()"
   ]
  },
  {
   "cell_type": "code",
   "execution_count": null,
   "metadata": {},
   "outputs": [],
   "source": [
    "sep = line.map(lambda elem: elem.split(' '))"
   ]
  },
  {
   "cell_type": "code",
   "execution_count": 1,
   "metadata": {},
   "outputs": [
    {
     "ename": "NameError",
     "evalue": "name 'sc' is not defined",
     "output_type": "error",
     "traceback": [
      "\u001b[1;31m---------------------------------------------------------------------------\u001b[0m",
      "\u001b[1;31mNameError\u001b[0m                                 Traceback (most recent call last)",
      "\u001b[1;32mc:\\Users\\DANIEL\\workspace\\gitwork\\pyspark_practice.ipynb Cell 5'\u001b[0m in \u001b[0;36m<cell line: 1>\u001b[1;34m()\u001b[0m\n\u001b[1;32m----> <a href='vscode-notebook-cell:/c%3A/Users/DANIEL/workspace/gitwork/pyspark_practice.ipynb#ch0000004?line=0'>1</a>\u001b[0m nums2 \u001b[39m=\u001b[39m sc\u001b[39m.\u001b[39mparallelize([\u001b[39m3\u001b[39m,\u001b[39m2\u001b[39m,\u001b[39m1\u001b[39m,\u001b[39m4\u001b[39m,\u001b[39m5\u001b[39m])\n\u001b[0;32m      <a href='vscode-notebook-cell:/c%3A/Users/DANIEL/workspace/gitwork/pyspark_practice.ipynb#ch0000004?line=1'>2</a>\u001b[0m \u001b[39m# num.filter(lambda element: element%2==0)\u001b[39;00m\n\u001b[0;32m      <a href='vscode-notebook-cell:/c%3A/Users/DANIEL/workspace/gitwork/pyspark_practice.ipynb#ch0000004?line=2'>3</a>\u001b[0m \u001b[39m#errors = logs.filter(lambda element: element[0]=='E')\u001b[39;00m\n\u001b[0;32m      <a href='vscode-notebook-cell:/c%3A/Users/DANIEL/workspace/gitwork/pyspark_practice.ipynb#ch0000004?line=3'>4</a>\u001b[0m pairs \u001b[39m=\u001b[39m nums2\u001b[39m.\u001b[39mfilter(\u001b[39mlambda\u001b[39;00m elem: elem\u001b[39m%\u001b[39m\u001b[39m2\u001b[39m\u001b[39m==\u001b[39m\u001b[39m0\u001b[39m)\n",
      "\u001b[1;31mNameError\u001b[0m: name 'sc' is not defined"
     ]
    }
   ],
   "source": [
    "nums2 = sc.parallelize([3,2,1,4,5])\n",
    "# num.filter(lambda element: element%2==0)\n",
    "#errors = logs.filter(lambda element: element[0]=='E')\n",
    "pairs = nums2.filter(lambda elem: elem%2==0)\n",
    "impairs = nums2.filter(lambda elem: elem%2!=0)\n",
    "\n",
    "order = pairs.union(impairs)\n",
    "order.takeOrdered(5)"
   ]
  },
  {
   "cell_type": "code",
   "execution_count": null,
   "metadata": {},
   "outputs": [],
   "source": [
    "nums2 = sc.parallelize([3,2,1,4,5])\n",
    "\n",
    "paridad = nums2.map(lambda elem: elem%2==0)\n",
    "print(nums2.collect())\n",
    "print(paridad.collect())"
   ]
  },
  {
   "cell_type": "code",
   "execution_count": null,
   "metadata": {},
   "outputs": [],
   "source": [
    "par_int = nums2.map(lambda e: int(e%2==0))\n",
    "\n",
    "print(nums2.collect())\n",
    "print(paridad.collect())\n",
    "print(par_int.collect())"
   ]
  },
  {
   "cell_type": "code",
   "execution_count": null,
   "metadata": {},
   "outputs": [],
   "source": [
    "orderedlist = nums2.takeOrdered(5, lambda e: int(e%2==0))\n",
    "\n",
    "print(nums2.collect())\n",
    "print(paridad.collect())\n",
    "print(par_int.collect())\n",
    "\n",
    "print(orderedlist)"
   ]
  },
  {
   "cell_type": "code",
   "execution_count": null,
   "metadata": {},
   "outputs": [],
   "source": [
    "words = sc.parallelize(['Hello', ',', 'It´s', 'me', 'I', 'was', 'wondering', 'if', 'after', 'all', 'this', 'time', 'you´d', 'like', 'to', 'meet'])\n",
    "\n",
    "wordlen = words.map(lambda elem: (elem, len(elem)))\n",
    "wordlen.collect()"
   ]
  },
  {
   "cell_type": "code",
   "execution_count": null,
   "metadata": {},
   "outputs": [],
   "source": [
    "kv = sc.parallelize([('A', 1), ('B', 3), ('C', 6), ('B', 2), ('A', 9),('C', 15)])\n",
    "\n",
    "rk = kv.reduceByKey(lambda v1,v2: v1 + v2)\n",
    "# print(rk.takeOrdered(6))\n",
    "print(rk.collect())"
   ]
  },
  {
   "cell_type": "code",
   "execution_count": null,
   "metadata": {},
   "outputs": [],
   "source": [
    "kv = sc.parallelize([('A', 1), ('B', 3), ('C', 6), ('B', 2), ('A', 9),('C', 15)])\n",
    "\n",
    "rk = kv.reduceByKey(lambda v1,v2: str(v1 + v2))\n",
    "print(rk.collect())"
   ]
  },
  {
   "cell_type": "code",
   "execution_count": null,
   "metadata": {},
   "outputs": [],
   "source": [
    "kv = sc.parallelize([('A', 1), ('B', 3), ('C', 6), ('B', 2), ('A', 9),('C', 15)])\n",
    "\n",
    "groupkv = kv.groupByKey().mapValues(list).collect()\n",
    "groupkvlen = kv.groupByKey().mapValues(len).collect()\n",
    "\n",
    "print(groupkv)\n",
    "print(groupkvlen)"
   ]
  },
  {
   "cell_type": "code",
   "execution_count": null,
   "metadata": {},
   "outputs": [],
   "source": [
    "kv = sc.parallelize([('A', 1), ('B', 3), ('C', 6), ('B', 2), ('A', 9),('C', 15)])\n",
    "\n",
    "rk = kv.reduceByKey(lambda v1,v2: v1 + v2)\n",
    "groupkvre = rk.groupByKey().mapValues(list).collect()\n",
    "\n",
    "print(groupkvre)"
   ]
  },
  {
   "cell_type": "code",
   "execution_count": null,
   "metadata": {},
   "outputs": [],
   "source": [
    "kv = sc.parallelize([('A', 1), ('B', 3), ('C', 6), ('B', 2), ('A', 9),('C', 15)])\n",
    "\n",
    "sort = kv.sortByKey(False)\n",
    "\n",
    "sort.collect()"
   ]
  },
  {
   "cell_type": "code",
   "execution_count": null,
   "metadata": {},
   "outputs": [],
   "source": [
    "rdd1 = sc.parallelize([('Nike',51805), ('Puma', 42329), ('Adidas', 63542), ('Puma', 27923), ('Nike', 75335), ('Puma', 45102), ('Adidas', 63583)])\n",
    "\n",
    "rdd2 = sc.parallelize([('Nike',224589),('Adidas',219123),('Puma',166524)])\n",
    "\n",
    "reducerdd1 = rdd1.reduceByKey(lambda v1, k1: v1 + k1)\n",
    "# reducerdd2 = rdd2.reduceByKey(lambda v1, k1: v1 + k1)\n",
    "\n",
    "rddjoin = reducerdd1.join(rdd2)\n",
    "\n",
    "print(rddjoin.collect())"
   ]
  },
  {
   "cell_type": "code",
   "execution_count": null,
   "metadata": {},
   "outputs": [],
   "source": [
    "rdd1_n = sc.parallelize([('Nike',51805), ('Adidas', 63542), ('Nike', 75335), ('Adidas', 63583)])\n",
    "\n",
    "rdd2 = sc.parallelize([('Nike',224589),('Adidas',219123),('Puma',166524)])\n",
    "\n",
    "reduce_rdd = rdd1_n.reduceByKey(lambda v1, k1: v1 + k1)\n",
    "\n",
    "joinright = reduce_rdd.rightOuterJoin(rdd2)\n",
    "joinleft = reduce_rdd.leftOuterJoin(rdd2)\n",
    "fulljoin = reduce_rdd.fullOuterJoin(rdd2)\n",
    "\n",
    "print(joinright.collect())\n",
    "print(joinleft.collect())\n",
    "print(fulljoin.collect())"
   ]
  }
 ],
 "metadata": {
  "kernelspec": {
   "display_name": "Python 3.10.4 64-bit",
   "language": "python",
   "name": "python3"
  },
  "language_info": {
   "codemirror_mode": {
    "name": "ipython",
    "version": 3
   },
   "file_extension": ".py",
   "mimetype": "text/x-python",
   "name": "python",
   "nbconvert_exporter": "python",
   "pygments_lexer": "ipython3",
   "version": "3.10.4"
  },
  "orig_nbformat": 4,
  "vscode": {
   "interpreter": {
    "hash": "acf8403819adfe497959fb7d2d03e26c50ad436fbbc78e6c84d8efa62b34f3d9"
   }
  }
 },
 "nbformat": 4,
 "nbformat_minor": 2
}
