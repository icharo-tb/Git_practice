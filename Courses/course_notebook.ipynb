{
 "cells": [
  {
   "cell_type": "code",
   "execution_count": 1,
   "metadata": {},
   "outputs": [],
   "source": [
    "import pandas as pd"
   ]
  },
  {
   "cell_type": "code",
   "execution_count": 3,
   "metadata": {},
   "outputs": [
    {
     "data": {
      "text/html": [
       "<div>\n",
       "<style scoped>\n",
       "    .dataframe tbody tr th:only-of-type {\n",
       "        vertical-align: middle;\n",
       "    }\n",
       "\n",
       "    .dataframe tbody tr th {\n",
       "        vertical-align: top;\n",
       "    }\n",
       "\n",
       "    .dataframe thead th {\n",
       "        text-align: right;\n",
       "    }\n",
       "</style>\n",
       "<table border=\"1\" class=\"dataframe\">\n",
       "  <thead>\n",
       "    <tr style=\"text-align: right;\">\n",
       "      <th></th>\n",
       "      <th>author</th>\n",
       "      <th>creation_date</th>\n",
       "      <th>update_date</th>\n",
       "      <th>courses</th>\n",
       "    </tr>\n",
       "  </thead>\n",
       "  <tbody>\n",
       "    <tr>\n",
       "      <th>0</th>\n",
       "      <td>icahro-tb</td>\n",
       "      <td>2022-08-11</td>\n",
       "      <td>2022-08-12</td>\n",
       "      <td>{'id': 1, 'course_name': 'Scientific Computing...</td>\n",
       "    </tr>\n",
       "    <tr>\n",
       "      <th>1</th>\n",
       "      <td>icahro-tb</td>\n",
       "      <td>2022-08-11</td>\n",
       "      <td>2022-08-12</td>\n",
       "      <td>{'id': 2, 'course_name': 'Introduction to Mong...</td>\n",
       "    </tr>\n",
       "  </tbody>\n",
       "</table>\n",
       "</div>"
      ],
      "text/plain": [
       "      author creation_date update_date  \\\n",
       "0  icahro-tb    2022-08-11  2022-08-12   \n",
       "1  icahro-tb    2022-08-11  2022-08-12   \n",
       "\n",
       "                                             courses  \n",
       "0  {'id': 1, 'course_name': 'Scientific Computing...  \n",
       "1  {'id': 2, 'course_name': 'Introduction to Mong...  "
      ]
     },
     "execution_count": 3,
     "metadata": {},
     "output_type": "execute_result"
    }
   ],
   "source": [
    "course_json = {\n",
    "    \"author\": \"icahro-tb\",\n",
    "    \"creation_date\": \"2022-08-11\",\n",
    "    \"update_date\": \"2022-08-12\",\n",
    "    \"courses\":[\n",
    "        {\n",
    "            \"id\": 1,\n",
    "            \"course_name\": \"Scientific Computing Python\",\n",
    "            \"starting_date\": \"unknown\",\n",
    "            \"finishing_date\": \"unknown\",\n",
    "            \"course_web\": \"freecodecamp.org\"\n",
    "        },\n",
    "        {\n",
    "            \"id\": 2,\n",
    "            \"course_name\": \"Introduction to MongoDB\",\n",
    "            \"starting_date\": \"unknown\",\n",
    "            \"finishing_date\": \"unknown\",\n",
    "            \"course_web\": \"coursera.com\"\n",
    "        }\n",
    "    ]\n",
    "}\n",
    "\n",
    "df = pd.DataFrame(course_json)\n",
    "df"
   ]
  },
  {
   "cell_type": "code",
   "execution_count": 2,
   "metadata": {},
   "outputs": [
    {
     "data": {
      "text/html": [
       "<div>\n",
       "<style scoped>\n",
       "    .dataframe tbody tr th:only-of-type {\n",
       "        vertical-align: middle;\n",
       "    }\n",
       "\n",
       "    .dataframe tbody tr th {\n",
       "        vertical-align: top;\n",
       "    }\n",
       "\n",
       "    .dataframe thead th {\n",
       "        text-align: right;\n",
       "    }\n",
       "</style>\n",
       "<table border=\"1\" class=\"dataframe\">\n",
       "  <thead>\n",
       "    <tr style=\"text-align: right;\">\n",
       "      <th></th>\n",
       "      <th>courses</th>\n",
       "    </tr>\n",
       "  </thead>\n",
       "  <tbody>\n",
       "    <tr>\n",
       "      <th>0</th>\n",
       "      <td>{'id': 1, 'course_name': 'Scientific Computing...</td>\n",
       "    </tr>\n",
       "    <tr>\n",
       "      <th>1</th>\n",
       "      <td>{'id': 2, 'course_name': 'Introduction to Mong...</td>\n",
       "    </tr>\n",
       "  </tbody>\n",
       "</table>\n",
       "</div>"
      ],
      "text/plain": [
       "                                             courses\n",
       "0  {'id': 1, 'course_name': 'Scientific Computing...\n",
       "1  {'id': 2, 'course_name': 'Introduction to Mong..."
      ]
     },
     "execution_count": 2,
     "metadata": {},
     "output_type": "execute_result"
    }
   ],
   "source": [
    "course_only = {    \n",
    "    \"courses\":[\n",
    "        {\n",
    "            \"id\": 1,\n",
    "            \"course_name\": \"Scientific Computing Python\",\n",
    "            \"starting_date\": \"unknown\",\n",
    "            \"finishing_date\": \"unknown\",\n",
    "            \"course_web\": \"freecodecamp.org\"\n",
    "        },\n",
    "        {\n",
    "            \"id\": 2,\n",
    "            \"course_name\": \"Introduction to MongoDB\",\n",
    "            \"starting_date\": \"unknown\",\n",
    "            \"finishing_date\": \"unknown\",\n",
    "            \"course_web\": \"coursera.com\"\n",
    "        }\n",
    "    ]\n",
    "}\n",
    "\n",
    "df = pd.DataFrame(course_only)\n",
    "df"
   ]
  },
  {
   "cell_type": "code",
   "execution_count": 9,
   "metadata": {},
   "outputs": [
    {
     "name": "stdout",
     "output_type": "stream",
     "text": [
      "{\n",
      "\n",
      "    \"author\": \"icahro-tb\",\n",
      "\n",
      "    \"creation_date\": \"2022-08-11\",\n",
      "\n",
      "    \"update_date\": \"2022-08-12\",\n",
      "\n",
      "    \"courses\":[\n",
      "\n",
      "        {\n",
      "\n",
      "            \"id\": 1,\n",
      "\n",
      "            \"course_name\": \"Scientific Computing Python\",\n",
      "\n",
      "            \"starting_date\": \"unknown\",\n",
      "\n",
      "            \"finishing_date\": \"unknown\",\n",
      "\n",
      "            \"course_web\": \"freecodecamp.org\"\n",
      "\n",
      "        },\n",
      "\n",
      "        {\n",
      "\n",
      "            \"id\": 2,\n",
      "\n",
      "            \"course_name\": \"Introduction to MongoDB\",\n",
      "\n",
      "            \"starting_date\": \"unknown\",\n",
      "\n",
      "            \"finishing_date\": \"unknown\",\n",
      "\n",
      "            \"course_web\": \"coursera.com\"\n",
      "\n",
      "        }\n",
      "\n",
      "    ]\n",
      "\n",
      "}\n"
     ]
    }
   ],
   "source": [
    "import pprint\n",
    "\n",
    "with open(r'C:\\Users\\DANIEL\\workspace\\gitwork\\Courses\\course_list.json', 'r') as file:\n",
    "    for line in file:\n",
    "        print(line)"
   ]
  }
 ],
 "metadata": {
  "kernelspec": {
   "display_name": "Python 3.10.4 64-bit",
   "language": "python",
   "name": "python3"
  },
  "language_info": {
   "codemirror_mode": {
    "name": "ipython",
    "version": 3
   },
   "file_extension": ".py",
   "mimetype": "text/x-python",
   "name": "python",
   "nbconvert_exporter": "python",
   "pygments_lexer": "ipython3",
   "version": "3.10.4"
  },
  "orig_nbformat": 4,
  "vscode": {
   "interpreter": {
    "hash": "acf8403819adfe497959fb7d2d03e26c50ad436fbbc78e6c84d8efa62b34f3d9"
   }
  }
 },
 "nbformat": 4,
 "nbformat_minor": 2
}
